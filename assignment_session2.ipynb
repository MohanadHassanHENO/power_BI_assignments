{
  "nbformat": 4,
  "nbformat_minor": 0,
  "metadata": {
    "colab": {
      "provenance": []
    },
    "kernelspec": {
      "name": "python3",
      "display_name": "Python 3"
    },
    "language_info": {
      "name": "python"
    }
  },
  "cells": [
    {
      "cell_type": "code",
      "execution_count": null,
      "metadata": {
        "colab": {
          "base_uri": "https://localhost:8080/"
        },
        "id": "HTBhhqkrBhJf",
        "outputId": "8131a388-94d8-42ac-ea84-d2bba8190c45"
      },
      "outputs": [
        {
          "output_type": "stream",
          "name": "stdout",
          "text": [
            "enter first number :89\n",
            "enter second number :20\n",
            "the maximum number = 89.0\n"
          ]
        }
      ],
      "source": [
        "x = float (input(\"enter first number :\"))\n",
        "z = float (input(\"enter second number :\"))\n",
        "\n",
        "if x>z:\n",
        "  print(f\"the maximum number = {x}\")\n",
        "elif x<z:\n",
        "   print(f\"the maximum number = {z}\")\n",
        "else :\n",
        "  print(\"the numbers are the same\")"
      ]
    },
    {
      "cell_type": "code",
      "source": [
        "A = float (input(\"enter first number :\"))\n",
        "B = float (input(\"enter second number :\"))\n",
        "C =float (input(\"enter third number :\"))\n",
        "if A>B and A>C:\n",
        "  print(f\"the maximum number = {A}\")\n",
        "elif B>A and B>C :\n",
        "   print(f\"the maximum number = {B}\")\n",
        "elif C>A and C>B :\n",
        "   print(f\"the maximum number = {C}\")\n",
        "else :\n",
        "  print(\"the numbers are the same\")"
      ],
      "metadata": {
        "colab": {
          "base_uri": "https://localhost:8080/"
        },
        "id": "z5YHvGohDBsO",
        "outputId": "b1f54493-245d-4f11-fb57-af1cf8516e95"
      },
      "execution_count": null,
      "outputs": [
        {
          "output_type": "stream",
          "name": "stdout",
          "text": [
            "enter first number :300\n",
            "enter second number :600\n",
            "enter third number :300\n",
            "the maximum number = 600.0\n"
          ]
        }
      ]
    },
    {
      "cell_type": "code",
      "source": [
        "check = float (input(\"enter number :\"))\n",
        "\n",
        "if check >0 :\n",
        "  print(\"it is positive number\")\n",
        "elif check<0:\n",
        "   print(\"it is negative number\")\n",
        "else :\n",
        "  print(\"it is zero\")"
      ],
      "metadata": {
        "colab": {
          "base_uri": "https://localhost:8080/"
        },
        "id": "DvtjiVUaFV0n",
        "outputId": "528a03e8-2270-41f4-b1a6-2be11eb86a29"
      },
      "execution_count": null,
      "outputs": [
        {
          "output_type": "stream",
          "name": "stdout",
          "text": [
            "enter number :-95\n",
            "it is negative number\n"
          ]
        }
      ]
    },
    {
      "cell_type": "code",
      "source": [
        "H = int (input(\"enter number :\"))\n",
        "\n",
        "if  (H%2==0) :\n",
        "  print(\"it is even number\")\n",
        "else :\n",
        "  print(\"it is odd number\")"
      ],
      "metadata": {
        "colab": {
          "base_uri": "https://localhost:8080/"
        },
        "id": "fGpg8q8GGTKu",
        "outputId": "4b6f6322-cc4e-46b6-9ab8-18099c28a773"
      },
      "execution_count": null,
      "outputs": [
        {
          "output_type": "stream",
          "name": "stdout",
          "text": [
            "enter number :9\n",
            "it is odd number\n"
          ]
        }
      ]
    },
    {
      "cell_type": "code",
      "source": [
        "weekdays = ['Monday', 'Tuesday', 'Wednesday', 'Thursday', 'Friday', 'Saturday', 'Sunday']\n",
        "index = int(input(\"Enter the index of the weekday (0-6): \"))\n",
        "if 0 <= index < len(weekdays):\n",
        "     print(\"Weekday at index\", index, \"is\", weekdays[index])\n",
        "else:\n",
        "     print(\"Invalid index. Index should be between 0 and\", len(weekdays) - 1)\n"
      ],
      "metadata": {
        "colab": {
          "base_uri": "https://localhost:8080/"
        },
        "id": "HiMNM7XiFEYw",
        "outputId": "cf411c2d-4fa0-489c-b6a2-b589507cce79"
      },
      "execution_count": null,
      "outputs": [
        {
          "output_type": "stream",
          "name": "stdout",
          "text": [
            "Enter the index of the weekday (0-6): -1\n",
            "Invalid index. Index should be between 0 and 6\n"
          ]
        }
      ]
    },
    {
      "cell_type": "code",
      "source": [
        "numbers = []\n",
        "n = int(input(\"Enter the number of elements: \"))\n",
        "print(\"Enter the elements:\")\n",
        "56\n",
        "\n",
        "for _ in range(n):\n",
        "    num = int(input())\n",
        "    numbers.append(num)\n",
        "\n",
        "print(\"Original list:\", numbers)\n",
        "reversed_numbers = list(reversed(numbers))\n",
        "print(\"Reversed list:\", reversed_numbers)"
      ],
      "metadata": {
        "colab": {
          "base_uri": "https://localhost:8080/"
        },
        "id": "tvqwDzdPIO2w",
        "outputId": "5a596800-4d37-4c22-ec80-88c23f95d81a"
      },
      "execution_count": 12,
      "outputs": [
        {
          "output_type": "stream",
          "name": "stdout",
          "text": [
            "Enter the number of elements: 7\n",
            "Enter the elements:\n",
            "65\n",
            "24\n",
            "685\n",
            "147\n",
            "32\n",
            "79\n",
            "32\n",
            "Original list: [65, 24, 685, 147, 32, 79, 32]\n",
            "Reversed list: [32, 79, 32, 147, 685, 24, 65]\n"
          ]
        }
      ]
    }
  ]
}