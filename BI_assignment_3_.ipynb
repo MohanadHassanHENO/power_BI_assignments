{
  "nbformat": 4,
  "nbformat_minor": 0,
  "metadata": {
    "colab": {
      "provenance": []
    },
    "kernelspec": {
      "name": "python3",
      "display_name": "Python 3"
    },
    "language_info": {
      "name": "python"
    }
  },
  "cells": [
    {
      "cell_type": "code",
      "execution_count": null,
      "metadata": {
        "id": "GmpIdYP0vHyq"
      },
      "outputs": [],
      "source": [
        "#### Multiply 10 with 5, and print the result.\n",
        "print(10*5)"
      ]
    },
    {
      "cell_type": "code",
      "source": [
        "### Divide 10 by 2, and print the result.\n",
        "print(10/2)"
      ],
      "metadata": {
        "id": "DX5h1657wAgu"
      },
      "execution_count": null,
      "outputs": []
    },
    {
      "cell_type": "code",
      "source": [
        "### Use the correct membership operator to check if \"apple\" is present in the fruits object.\n",
        "fruits = [\"apple\", \"banana\", \"cherry\"]\n",
        "\n",
        "if \"apple\" in fruits:\n",
        "    print(\" 'apple' is present in the fruits object.\")\n",
        "else:\n",
        "    print(\" 'apple' is not present in the fruits object.\")\n"
      ],
      "metadata": {
        "id": "_m4rjiDaw6jZ"
      },
      "execution_count": null,
      "outputs": []
    },
    {
      "cell_type": "code",
      "source": [
        "### Use the correct comparison operator to check if 5 is `not equal` to 10.\n",
        "if 5 != 10:\n",
        "    print(\"5 is not equal to 10\")\n",
        "else:\n",
        "    print(\"5 is equal to 10\")"
      ],
      "metadata": {
        "id": "12RfFScixZYh"
      },
      "execution_count": null,
      "outputs": []
    },
    {
      "cell_type": "code",
      "source": [
        "### Use the correct logical operator to check if at least one of two statements is `True`.\n",
        "statement1 = False\n",
        "statement2 = True\n",
        "\n",
        "if statement1 or statement2:\n",
        "    print(\"At least one statement is True\")\n",
        "else:\n",
        "    print(\"Both statements are False\")\n"
      ],
      "metadata": {
        "id": "PaM8QPTKx7df"
      },
      "execution_count": null,
      "outputs": []
    },
    {
      "cell_type": "code",
      "source": [
        "### Print the second item in the fruits list.\n",
        "fruits = [\"apple\", \"banana\", \"cherry\"]\n",
        "print(fruits[1])\n",
        "\n",
        "### Change the value from \"apple\" to \"kiwi\", in the fruits list.\n",
        "index = fruits.index(\"apple\")\n",
        "fruits[index] = \"kiwi\"\n",
        "print(fruits)"
      ],
      "metadata": {
        "id": "leQTtYZwydfT"
      },
      "execution_count": null,
      "outputs": []
    },
    {
      "cell_type": "code",
      "source": [
        "### Use the append method to add \"orange\" to the fruits list.\n",
        "fruits = [\"apple\", \"banana\", \"cherry\"]\n",
        "fruits.append(\"orange\")\n",
        "print(fruits)\n",
        "\n",
        "### Use the insert method to add \"lemon\" as the second item in the fruits list.\n",
        "\n",
        "fruits.insert(1, \"lemon\")\n",
        "print(fruits)\n",
        "\n",
        "### Use the remove method to remove `\"banana\"` from the fruits list.\n",
        "\n",
        "fruits.remove(\"banana\")\n",
        "print(fruits)\n",
        "\n",
        "### Use negative indexing to print the last item in the list.\n",
        "\n",
        "print(fruits[-1])"
      ],
      "metadata": {
        "id": "VfPT-LQaywR2"
      },
      "execution_count": null,
      "outputs": []
    },
    {
      "cell_type": "code",
      "source": [
        "### Use a range of indexes to print the third, fourth, and fifth item in the list.\n",
        "\n",
        "fruits = [\"apple\", \"banana\", \"cherry\", \"date\", \"elderberry\", \"fig\"]\n",
        "\n",
        "print(fruits[2:5])\n",
        "print(len(fruits))"
      ],
      "metadata": {
        "id": "vCkpEzmn0lAo"
      },
      "execution_count": null,
      "outputs": []
    },
    {
      "cell_type": "code",
      "source": [
        "### Write a Python program to print all even numbers from a given list of numbers in the same order and stop printing any after 237 in the sequence.\n",
        "numbers = [386, 462, 47, 418, 907, 344, 236, 375, 823, 566, 597, 978, 328, 615, 953, 345,\n",
        "    399, 162, 758, 219, 918, 237, 412, 566, 826, 248, 866, 950, 626, 949, 687, 217,\n",
        "    815, 67, 104, 58, 512, 24, 892, 894, 767, 553, 81, 379, 843, 831, 445, 742, 717,\n",
        "    958,743, 527]\n",
        "for num in numbers:\n",
        "    if num % 2 == 0:\n",
        "        print(num)\n",
        "    if num == 237:\n",
        "        break"
      ],
      "metadata": {
        "id": "9egFcRRr1SVd"
      },
      "execution_count": null,
      "outputs": []
    },
    {
      "cell_type": "code",
      "source": [
        "\n",
        "### Write a Python program that will accept the base and height of a triangle and compute its area.\n",
        "def area(h,b):\n",
        "  area=0.5*h*b\n",
        "  return area\n",
        "\n",
        "h=float(input(\"enter thr height \"))\n",
        "b=float(input(\"enter thr base \"))\n",
        "\n",
        "print(\"area = \",area(h,b))"
      ],
      "metadata": {
        "id": "xKXkQJpR2AAp"
      },
      "execution_count": null,
      "outputs": []
    },
    {
      "cell_type": "code",
      "source": [
        "### Sort three integers without using conditional statements\n",
        "\n",
        "num1 = int(input(\"Enter the first integer: \"))\n",
        "num2 = int(input(\"Enter the second integer: \"))\n",
        "num3 = int(input(\"Enter the third integer: \"))\n",
        "\n",
        "numbers = [num1, num2, num3]\n",
        "\n",
        "sorted_numbers = sorted(numbers)\n",
        "\n",
        "print(\"Sorted numbers:\", sorted_numbers)\n",
        "\n"
      ],
      "metadata": {
        "id": "yZ6cVx5439sO"
      },
      "execution_count": null,
      "outputs": []
    },
    {
      "cell_type": "code",
      "source": [
        "### Sort three integers :using conditional statements\n",
        "\n",
        "num1 = int(input(\"Enter the first integer: \"))\n",
        "num2 = int(input(\"Enter the second integer: \"))\n",
        "num3 = int(input(\"Enter the third integer: \"))\n",
        "\n",
        "if num1 > num2:\n",
        "    num1, num2 = num2, num1\n",
        "if num2 > num3:\n",
        "    num2, num3 = num3, num2\n",
        "if num1 > num2:\n",
        "    num1, num2 = num2, num1\n",
        "\n",
        "print(\"Sorted numbers:\", num1, num2, num3)\n"
      ],
      "metadata": {
        "id": "E7dlrEQX5WLI"
      },
      "execution_count": null,
      "outputs": []
    },
    {
      "cell_type": "code",
      "source": [
        "#### Write a Python function that takes a sequence of numbers and determines whether all the numbers are different from each other.\n",
        "def are_all_unique(numbers):\n",
        "    unique_numbers = set(numbers)\n",
        "\n",
        "    if len(unique_numbers) == len(numbers):\n",
        "        return True\n",
        "    else:\n",
        "        return False\n",
        "\n",
        "# Test the function\n",
        "sequence1 = [2, 4, 5, 7, 9]\n",
        "sequence2 = [2, 4, 5,5, 7, 9]\n",
        "\n",
        "print(\"Sequence 1:\", are_all_unique(sequence1))  # Should print True\n",
        "print(\"Sequence 2:\", are_all_unique(sequence2))  # Should print False\n"
      ],
      "metadata": {
        "id": "I-bYfQ8f6yCm"
      },
      "execution_count": null,
      "outputs": []
    },
    {
      "cell_type": "code",
      "source": [
        "### Calculate the sum of all numbers from 0 to a given number\n",
        "def sum_of_numbers(n):\n",
        "    total_sum = (n * (n + 1)) // 2\n",
        "    return total_sum\n",
        "\n",
        "n = int(input(\"Enter a number: \"))\n",
        "\n",
        "result = sum_of_numbers(n)\n",
        "\n",
        "print(\"The sum of all numbers from 0 to\", n, \"is:\", result)\n"
      ],
      "metadata": {
        "id": "4fly1Yi783UN"
      },
      "execution_count": null,
      "outputs": []
    },
    {
      "cell_type": "code",
      "source": [
        "### Find the factorial of a given number using while loop\n",
        "def factorial(n):\n",
        "    factorial = 1\n",
        "    if n < 0:\n",
        "        return \"Factorial is not defined for negative numbers\"\n",
        "\n",
        "    while n > 0:\n",
        "        factorial *= n\n",
        "        n -= 1\n",
        "\n",
        "    return factorial\n",
        "\n",
        "num = int(input(\"Enter a number: \"))\n",
        "\n",
        "result = factorial(num)\n",
        "\n",
        "print(\"The factorial of\", num, \"is:\", result)\n"
      ],
      "metadata": {
        "id": "ktDrOU5s9oly"
      },
      "execution_count": null,
      "outputs": []
    },
    {
      "cell_type": "code",
      "source": [
        "### Use a loop to display elements from a given list present at odd index positions\n",
        "def display_elements_at_odd_indices(lst):\n",
        "    for i in range(len(lst)):\n",
        "        if i % 2 != 0:\n",
        "            print(lst[i])\n",
        "\n",
        "\n",
        "my_list = [10, 20, 30, 40, 50, 60, 70, 80, 90, 100]\n",
        "print(\"Elements at odd index positions:\")\n",
        "display_elements_at_odd_indices(my_list)\n"
      ],
      "metadata": {
        "id": "2ETEbpAl-Bs-"
      },
      "execution_count": null,
      "outputs": []
    }
  ]
}